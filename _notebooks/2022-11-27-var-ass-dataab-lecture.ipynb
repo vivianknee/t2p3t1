{
 "cells": [
  {
   "cell_type": "markdown",
   "metadata": {},
   "source": [
    "# Variables, Assignments, and Data Abstraction\n",
    ">Welcome to our lecture!\n",
    "- badges: true\n",
    "- comments: true\n",
    "- categories: [lectures]"
   ]
  },
  {
   "cell_type": "markdown",
   "metadata": {},
   "source": [
    "## Variables\n",
    "- A variable is an abstraction inside a program that can hold a value\n",
    "- It organizes data by labeling it with a descriptive name\n",
    "- It consists of three parts: name, value, and type\n",
    "- Using meaningful variables names helps with readability of program code and understanding of what values are represented by the variables"
   ]
  },
  {
   "cell_type": "markdown",
   "metadata": {},
   "source": [
    "**Naming Variables**"
   ]
  },
  {
   "cell_type": "markdown",
   "metadata": {},
   "source": [
    "| Do's | Don'ts | Why |\n",
    "|-|-|-|\n",
    "| highScore | highestScoreInTheGame | Keep it simple and easy to read, having variables that are too complicated can cause your code to become messy later on |\n",
    "| highScore | highscore | Differentiate the words in your variable with a capital letter. Makes things easier to read |\n",
    "| firstName | n | not specific enough/vague |\n",
    "| isRaining | is it raining | spaces are improper syntax |\n",
    "| phoneNumber | 555-number | dashes are improper syntax and numbers should be avoided in variable names |"
   ]
  },
  {
   "cell_type": "markdown",
   "metadata": {},
   "source": [
    "- Types of data\n",
    "    - Integer: A number\n",
    "    - Text/string: A word\n",
    "    - Boolean: Data that determines if something is true or false"
   ]
  },
  {
   "cell_type": "code",
   "execution_count": 18,
   "metadata": {},
   "outputs": [
    {
     "name": "stdout",
     "output_type": "stream",
     "text": [
      "table1 <class 'str'>\n",
      "4 <class 'int'>\n",
      "False <class 'bool'>\n"
     ]
    }
   ],
   "source": [
    "name = \"table1\" #string\n",
    "print(name, type(name))\n",
    "\n",
    "number = 4 #integer\n",
    "print(number, type(number))\n",
    "\n",
    "isAbsent = False\n",
    "print(isAbsent, type(isAbsent))"
   ]
  },
  {
   "cell_type": "markdown",
   "metadata": {},
   "source": [
    "A list of data can also be stored in variables. Why is that useful?\n",
    "- print/retrieve specific values in the list without creating a lot of variables\n",
    "- easily remove/add/change items into the list "
   ]
  },
  {
   "cell_type": "code",
   "execution_count": 23,
   "metadata": {},
   "outputs": [
    {
     "name": "stdout",
     "output_type": "stream",
     "text": [
      "yellow\n"
     ]
    }
   ],
   "source": [
    "colors = [\"red\", \"orange\", \"yellow\"]\n",
    "print(colors[2])"
   ]
  },
  {
   "cell_type": "markdown",
   "metadata": {},
   "source": [
    "## Assignments\n",
    "- The assignment operator allows a program to change the value represented by a variable\n",
    "- Used to assigning values to variables\n",
    "\n",
    "| Operator | Description | Syntax | Outcome when print(a) |\n",
    "|-|-|-|-|\n",
    "| = | Assign value of right side of expression to left side operand | a = b | b |\n",
    "| += | Add right side operand with left side operand and then assign to left operand | a += b | a + b |\n",
    "| -= | Subtract right operand from left operand and then assign to left operand: True if both operands are equal | a -= b | a - b |\n",
    "| *= | Multiply right operand with left operand and then assign to left operand | a *= b | a * b |\n",
    "| /= | Divide left operand with right operand and then assign to left operand | a /= b | a / b |\n",
    "| **= | Calculate exponent(raise power) value using operands and assign value to left operand | a **= b | a ^ b |"
   ]
  },
  {
   "cell_type": "code",
   "execution_count": null,
   "metadata": {},
   "outputs": [],
   "source": [
    "a = 1\n",
    "b = 2\n",
    "a = b\n",
    "print(a)\n"
   ]
  },
  {
   "cell_type": "markdown",
   "metadata": {},
   "source": [
    "The value stored in a variable will be the most recent value assigned"
   ]
  },
  {
   "cell_type": "code",
   "execution_count": 9,
   "metadata": {},
   "outputs": [
    {
     "name": "stdout",
     "output_type": "stream",
     "text": [
      "1\n"
     ]
    }
   ],
   "source": [
    "a = 1\n",
    "b = a\n",
    "a = 2\n",
    "print(b)"
   ]
  },
  {
   "cell_type": "markdown",
   "metadata": {},
   "source": [
    "**Changing Values**"
   ]
  },
  {
   "cell_type": "code",
   "execution_count": null,
   "metadata": {},
   "outputs": [],
   "source": [
    "currentScore = 10\n",
    "highScore = currentScore\n",
    "currentScore = 7\n",
    "print(highScore)"
   ]
  },
  {
   "cell_type": "markdown",
   "metadata": {},
   "source": [
    "your turn! Here are 2 problems for you to solve"
   ]
  },
  {
   "cell_type": "code",
   "execution_count": null,
   "metadata": {},
   "outputs": [],
   "source": [
    "num1 = 5\n",
    "num2 = 9\n",
    "num1 = num2\n",
    "\n",
    "print(num1)\n",
    "print(num2)"
   ]
  },
  {
   "cell_type": "code",
   "execution_count": null,
   "metadata": {},
   "outputs": [],
   "source": [
    "num1 = 15\n",
    "num2 = 26\n",
    "num3 = 42\n",
    "num2 = num3\n",
    "num3 = num1\n",
    "num1 = num2\n",
    "\n",
    "print(num1)\n",
    "print(num2)\n",
    "print(num3)"
   ]
  },
  {
   "cell_type": "markdown",
   "metadata": {},
   "source": [
    "## Data Abstraction"
   ]
  },
  {
   "cell_type": "markdown",
   "metadata": {},
   "source": [
    "Data abstraction is the method used in coding to represent data in a useful form, by taking away aspects of data that aren't being used in the situation. Variables are a primary tool in data abstraction.\n"
   ]
  },
  {
   "cell_type": "markdown",
   "metadata": {},
   "source": [
    "## AP Exam Use of Data Abstraction\n",
    "With the properties of the AP Exam pseudocode, lists work differently from what we've learned in python so far, here are the two major differences:\n",
    "- The index does not start at 0 but 1\n",
    "![]({{ site.baseurl }}/images/list-difference-1.png \"Visual\")\n",
    "- There is only one method of interchanging data between lists, and that is completely overwriting previous list data with the other list\n",
    "![]({{ site.baseurl }}/images/list-difference-2.png \"Visual\")"
   ]
  },
  {
   "cell_type": "code",
   "execution_count": null,
   "metadata": {},
   "outputs": [],
   "source": []
  }
 ],
 "metadata": {
  "kernelspec": {
   "display_name": "Python 3.9.12 ('base')",
   "language": "python",
   "name": "python3"
  },
  "language_info": {
   "codemirror_mode": {
    "name": "ipython",
    "version": 3
   },
   "file_extension": ".py",
   "mimetype": "text/x-python",
   "name": "python",
   "nbconvert_exporter": "python",
   "pygments_lexer": "ipython3",
   "version": "3.9.12"
  },
  "orig_nbformat": 4,
  "vscode": {
   "interpreter": {
    "hash": "289762bfef0c13eec96403755dc6a123221745d77b4e51a71a7ef5c7578571d1"
   }
  }
 },
 "nbformat": 4,
 "nbformat_minor": 2
}
