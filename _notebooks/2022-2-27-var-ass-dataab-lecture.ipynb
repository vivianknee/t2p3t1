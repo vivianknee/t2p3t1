{
 "cells": [
  {
   "cell_type": "markdown",
   "metadata": {},
   "source": [
    "# Variables, Assignments, and Data Abstraction\n",
    ">Welcome to our lecture!\n",
    "- badges: true\n",
    "- comments: true\n",
    "- categories: [lectures]"
   ]
  },
  {
   "cell_type": "markdown",
   "metadata": {},
   "source": [
    "## Variables\n",
    "- A variable is an abstraction inside a program that can hold a value\n",
    "- It organizes data by labeling it with a descriptive name\n",
    "- It consists of three parts: name, value, and type\n",
    "- Using meaningful variables names helps with readability of program code and understanding of what values are represented by the variables"
   ]
  },
  {
   "cell_type": "markdown",
   "metadata": {},
   "source": [
    "**Naming Variables**"
   ]
  },
  {
   "cell_type": "markdown",
   "metadata": {},
   "source": [
    "| Do's | Don'ts | Why |\n",
    "|-|-|-|\n",
    "| highScore | highestScoreInTheGame | Keep it simple and easy to read, having variables that are too complicated can cause your code to become messy later on |\n",
    "| highScore | highscore | Differentiate the words in your variable with a capital letter. Makes things easier to read |\n",
    "| firstName | n | not specific enough/vague |\n",
    "| isRaining | is it raining | spaces are improper syntax |\n",
    "| phoneNumber | 555-number | dashes are improper syntax and numbers should be avoided in variable names |"
   ]
  },
  {
   "cell_type": "markdown",
   "metadata": {},
   "source": [
    "- Types of data\n",
    "    - Integer: A number\n",
    "    - Text/string: A word\n",
    "    - Boolean: Data that determines if something is true or false"
   ]
  },
  {
   "cell_type": "code",
   "execution_count": 18,
   "metadata": {},
   "outputs": [
    {
     "name": "stdout",
     "output_type": "stream",
     "text": [
      "table1 <class 'str'>\n",
      "4 <class 'int'>\n",
      "False <class 'bool'>\n"
     ]
    }
   ],
   "source": [
    "name = \"table1\" #string\n",
    "print(name, type(name))\n",
    "\n",
    "number = 4 #integer\n",
    "print(number, type(number))\n",
    "\n",
    "isAbsent = False\n",
    "print(isAbsent, type(isAbsent))"
   ]
  },
  {
   "cell_type": "markdown",
   "metadata": {},
   "source": [
    "A list of data can also be stored in variables. Why is that useful?\n",
    "- print/retrieve specific values in the list without creating a lot of variables\n",
    "- easily remove/add/change items into the list "
   ]
  },
  {
   "cell_type": "code",
   "execution_count": 23,
   "metadata": {},
   "outputs": [
    {
     "name": "stdout",
     "output_type": "stream",
     "text": [
      "yellow\n"
     ]
    }
   ],
   "source": [
    "colors = [\"red\", \"orange\", \"yellow\"]\n",
    "print(colors[2])"
   ]
  },
  {
   "cell_type": "markdown",
   "metadata": {},
   "source": [
    "## Assignments\n",
    "- The assignment operator allows a program to change the value represented by a variable\n",
    "- Used to assigning values to variables\n",
    "\n",
    "| Operator | Description | Syntax | Outcome when print(a) |\n",
    "|-|-|-|-|\n",
    "| = | Assign value of right side of expression to left side operand | a = b | b |\n",
    "| += | Add right side operand with left side operand and then assign to left operand | a += b | a + b |\n",
    "| -= | Subtract right operand from left operand and then assign to left operand: True if both operands are equal | a -= b | a - b |\n",
    "| *= | Multiply right operand with left operand and then assign to left operand | a *= b | a * b |\n",
    "| /= | Divide left operand with right operand and then assign to left operand | a /= b | a / b |\n",
    "| **= | Calculate exponent(raise power) value using operands and assign value to left operand | a **= b | a ^ b |"
   ]
  },
  {
   "cell_type": "code",
   "execution_count": null,
   "metadata": {},
   "outputs": [],
   "source": [
    "a = 1\n",
    "b = 2\n",
    "a = b\n",
    "print(a)\n"
   ]
  },
  {
   "cell_type": "markdown",
   "metadata": {},
   "source": [
    "The value stored in a variable will be the most recent value assigned"
   ]
  },
  {
   "cell_type": "code",
   "execution_count": 9,
   "metadata": {},
   "outputs": [
    {
     "name": "stdout",
     "output_type": "stream",
     "text": [
      "1\n"
     ]
    }
   ],
   "source": [
    "a = 1\n",
    "b = a\n",
    "a = 2\n",
    "print(b)"
   ]
  },
  {
   "cell_type": "markdown",
   "metadata": {},
   "source": [
    "**Changing Values**"
   ]
  },
  {
   "cell_type": "code",
   "execution_count": null,
   "metadata": {},
   "outputs": [],
   "source": [
    "currentScore = 10\n",
    "highScore = currentScore\n",
    "currentScore = 7\n",
    "print(highScore)"
   ]
  },
  {
   "cell_type": "markdown",
   "metadata": {},
   "source": [
    "your turn! Here are 2 problems for you to solve"
   ]
  },
  {
   "cell_type": "code",
   "execution_count": null,
   "metadata": {},
   "outputs": [],
   "source": [
    "num1 = 5\n",
    "num2 = 9\n",
    "num1 = num2\n",
    "\n",
    "print(num1)\n",
    "print(num2)"
   ]
  },
  {
   "cell_type": "code",
   "execution_count": null,
   "metadata": {},
   "outputs": [],
   "source": [
    "num1 = 15\n",
    "num2 = 25\n",
    "num3 = 42\n",
    "num2 = num3\n",
    "num3 = num1\n",
    "num1 = num2\n",
    "\n",
    "print(num1)\n",
    "print(num2)\n",
    "print(num3)"
   ]
  },
  {
   "cell_type": "markdown",
   "metadata": {},
   "source": [
    "Which of these will show the sum?"
   ]
  },
  {
   "cell_type": "code",
   "execution_count": null,
   "metadata": {},
   "outputs": [],
   "source": [
    "num2 += num1\n",
    "print(num1)\n",
    "print(num2)\n",
    "\n",
    "print(str(num1)+ str(num2))\n",
    "print(num1 + num2)"
   ]
  },
  {
   "cell_type": "markdown",
   "metadata": {},
   "source": [
    "## Data Abstraction\n",
    "\n",
    "- Method used in coding to represent data in a useful form, by taking away aspects of data that aren't being used in the situation\n",
    "- Variables and lists are primary tools in data abstraction\n",
    "- Provides a separation between the abstract properties of a data type and the concrete details of its representation\n"
   ]
  },
  {
   "cell_type": "markdown",
   "metadata": {},
   "source": [
    "## Lists & Strings\n",
    "\n",
    "- List = ordered sequence of elements\n",
    "- Element = individual value in a list that is assigned to a unique index\n",
    "- Index = a way to reference the elements in a list or string using natural numbers; each element of a string is referenced by an index\n",
    "- String = ordered sequence of characters (Letters, numbers, special characters)\n",
    "\n",
    "> NOTE: index starts at 1 for AP Exam, must be whole numbers, cannot be negative, and goes up to the number of elements in the list\n",
    "\n",
    "> We can represent a list or string using a variable"
   ]
  },
  {
   "cell_type": "markdown",
   "metadata": {},
   "source": [
    "## Example of a List - Colors\n",
    "\n",
    "| Index | Element |\n",
    "|-|-|\n",
    "| 1 | Green|\n",
    "| 2 | Blue |\n",
    "| 3 | Purple |\n",
    "| 4 | Pink |\n",
    "\n",
    "\n",
    "- At Index 1, the element is green, at index 2, the element is blue, etc."
   ]
  },
  {
   "cell_type": "markdown",
   "metadata": {},
   "source": [
    "## Managing the Complexity of a Program through Data Abstraction\n",
    "\n",
    "- Data abstractions help manage complexity in programs by giving a collection of data a name without referencing the specific details of the representation\n",
    "- Developing a data abstraction to use in a program can result in a program that is easier to develop and maintain\n"
   ]
  },
  {
   "cell_type": "markdown",
   "metadata": {},
   "source": [
    "## Using Lists as Data Abstractions\n",
    "\n",
    "**What are Lists?**\n",
    "\n",
    "- Allow for data abstraction\n",
    "- Bundle variables together\n",
    "- Store multiple elements\n",
    "- Allows multiple related items to be treated as a single value\n",
    "- Give one name to a set of memory cells\n",
    "- Can keep adding elements to it as needed\n",
    "- Can store elements as a single variable by using a list\n",
    "\n",
    "**3 Types of List Operations**\n",
    "\n",
    "1. Assigning values to a list at certain indices\n",
    "2. Creating an empty list and assigning it to a variable\n",
    "3. Assigning a copy of one list to another list (setting one list equal to another list)"
   ]
  },
  {
   "cell_type": "markdown",
   "metadata": {},
   "source": [
    "**1. Assigning values to a list at certain indices**"
   ]
  },
  {
   "cell_type": "code",
   "execution_count": 1,
   "metadata": {},
   "outputs": [
    {
     "name": "stdout",
     "output_type": "stream",
     "text": [
      "['pink', 'yellow', 'green', 'blue', 'orange']\n"
     ]
    }
   ],
   "source": [
    "colorsList=[\"pink\", \"yellow\", \"green\", \"blue\", \"orange\"]\n",
    "\n",
    "print(colorsList)"
   ]
  },
  {
   "cell_type": "markdown",
   "metadata": {},
   "source": [
    "**2. Creating an empty list and assigning it to a variable**"
   ]
  },
  {
   "cell_type": "code",
   "execution_count": 3,
   "metadata": {},
   "outputs": [],
   "source": [
    "colorsList=[] # can be used if you want to create a list that can be filled with values later"
   ]
  },
  {
   "cell_type": "markdown",
   "metadata": {},
   "source": [
    "**3. Assigning a copy of one list to another list (setting one list equal to another list)**"
   ]
  },
  {
   "cell_type": "code",
   "execution_count": 6,
   "metadata": {},
   "outputs": [
    {
     "name": "stdout",
     "output_type": "stream",
     "text": [
      "['black', 'blue', 'orange', 'yellow', 'purple', 'green', 'pink']\n"
     ]
    }
   ],
   "source": [
    "# Reversing a list \n",
    "# copy of the list is made; the list isn't sorted in place\n",
    "def Reverse(lst): # defining variable: lst \n",
    "    new_lst = lst[::-1] \n",
    "    return new_lst\n",
    " \n",
    "lst = [\"pink\", \"green\", \"purple\", \"yellow\", \"orange\", \"blue\", \"black\"]\n",
    "print(Reverse(lst)) # reverse 1st"
   ]
  },
  {
   "cell_type": "markdown",
   "metadata": {},
   "source": [
    "## What is Managing Complexity?\n",
    "\n",
    "- Improving code readability\n",
    "- Reducing the need for new variables as more data is collected\n",
    "- Can easily update data\n",
    "- Can easily convert data to different forms\n"
   ]
  },
  {
   "cell_type": "markdown",
   "metadata": {},
   "source": [
    "## How do Lists Help Manage the Complexity of a Program?\n",
    "\n",
    "- Don’t need as many variables\n",
    "- Can easily change the number of variables\n",
    "- Can apply the same mathematical computation (through an algorithm) to all the elements in the list\n",
    "\n"
   ]
  },
  {
   "cell_type": "markdown",
   "metadata": {},
   "source": [
    "## Data Abstraction Practice\n",
    "\n",
    "> Manage the complexity of the given code below using a list. Re-write the code segment in a less complex way, but with the same result."
   ]
  },
  {
   "cell_type": "code",
   "execution_count": 9,
   "metadata": {},
   "outputs": [
    {
     "name": "stdout",
     "output_type": "stream",
     "text": [
      "green\n",
      "red\n",
      "pink\n",
      "purple\n",
      "blue\n",
      "brown\n"
     ]
    }
   ],
   "source": [
    "color1=\"green\"\n",
    "color2=\"red\"\n",
    "color3=\"pink\"\n",
    "color4=\"purple\"\n",
    "color5=\"blue\"\n",
    "color6=\"brown\"\n",
    "\n",
    "print(color1)\n",
    "print(color2)\n",
    "print(color3)\n",
    "print(color4)\n",
    "print(color5)\n",
    "print(color6)"
   ]
  },
  {
   "cell_type": "markdown",
   "metadata": {},
   "source": [
    "**Answer**"
   ]
  },
  {
   "cell_type": "code",
   "execution_count": 12,
   "metadata": {},
   "outputs": [
    {
     "name": "stdout",
     "output_type": "stream",
     "text": [
      "['green', 'red', 'pink', 'purple', 'blue', 'brown']\n"
     ]
    }
   ],
   "source": [
    "colorList=[\"green\", \"red\", \"pink\", \"purple\", \"blue\", \"brown\"]\n",
    "\n",
    "print(str(colorList))"
   ]
  },
  {
   "cell_type": "markdown",
   "metadata": {},
   "source": [
    "## AP Exam Use of Data Abstraction\n",
    "With the properties of the AP Exam pseudocode, lists work differently from what we've learned in python so far, here are the two major differences:\n",
    "- The index does not start at 0 but 1\n",
    "- There is only one method of interchanging data between lists, and that is completely overwriting previous list data with the other list\\n\","
   ]
  },
  {
   "cell_type": "markdown",
   "metadata": {},
   "source": [
    "# Homework\n",
    "You will turn in a program that utilizes lists and variables as it's primary function, options could be a quiz, a sorter, database, or wherever your imagination brings you. You will be graded on how well you understood the concepts and if you used anything other than just the simplest parts"
   ]
  },
  {
   "cell_type": "markdown",
   "metadata": {},
   "source": [
    "Quiz template, if you do use it, fix the issues, and add more to it than it's current barebones state. I would recommend using it to create something related to school. "
   ]
  },
  {
   "cell_type": "code",
   "execution_count": 8,
   "metadata": {},
   "outputs": [
    {
     "name": "stdout",
     "output_type": "stream",
     "text": [
      "Question1\n",
      "\n",
      "Correct! Score: 1\n",
      "Question2\n",
      "\n",
      "Incorrect! The correct answer was Solution2\n",
      "\n",
      "Question3\n",
      "\n",
      "Incorrect! The correct answer was Solution3\n",
      "\n",
      "Question4\n",
      "\n",
      "Incorrect! The correct answer was Solution4\n",
      "\n"
     ]
    },
    {
     "ename": "IndexError",
     "evalue": "list index out of range",
     "output_type": "error",
     "traceback": [
      "\u001b[0;31m---------------------------------------------------------------------------\u001b[0m",
      "\u001b[0;31mIndexError\u001b[0m                                Traceback (most recent call last)",
      "\u001b[1;32m/Users/gianninaortegarico/vscode/t2p3t1/_notebooks/2022-2-27-var-ass-dataab-lecture.ipynb Cell 39\u001b[0m in \u001b[0;36m<cell line: 13>\u001b[0;34m()\u001b[0m\n\u001b[1;32m     <a href='vscode-notebook-cell:/Users/gianninaortegarico/vscode/t2p3t1/_notebooks/2022-2-27-var-ass-dataab-lecture.ipynb#X54sZmlsZQ%3D%3D?line=10'>11</a>\u001b[0m quesAmount\u001b[39m=\u001b[39m \u001b[39mlen\u001b[39m(quesList)\n\u001b[1;32m     <a href='vscode-notebook-cell:/Users/gianninaortegarico/vscode/t2p3t1/_notebooks/2022-2-27-var-ass-dataab-lecture.ipynb#X54sZmlsZQ%3D%3D?line=12'>13</a>\u001b[0m \u001b[39mwhile\u001b[39;00m quesCount \u001b[39m<\u001b[39m\u001b[39m=\u001b[39m quesAmount:\n\u001b[0;32m---> <a href='vscode-notebook-cell:/Users/gianninaortegarico/vscode/t2p3t1/_notebooks/2022-2-27-var-ass-dataab-lecture.ipynb#X54sZmlsZQ%3D%3D?line=13'>14</a>\u001b[0m     \u001b[39mprint\u001b[39m(quesList[quesCount] \u001b[39m+\u001b[39m \u001b[39m\"\u001b[39m\u001b[39m\\n\u001b[39;00m\u001b[39m\"\u001b[39m)\n\u001b[1;32m     <a href='vscode-notebook-cell:/Users/gianninaortegarico/vscode/t2p3t1/_notebooks/2022-2-27-var-ass-dataab-lecture.ipynb#X54sZmlsZQ%3D%3D?line=14'>15</a>\u001b[0m     guess \u001b[39m=\u001b[39m \u001b[39minput\u001b[39m()\n\u001b[1;32m     <a href='vscode-notebook-cell:/Users/gianninaortegarico/vscode/t2p3t1/_notebooks/2022-2-27-var-ass-dataab-lecture.ipynb#X54sZmlsZQ%3D%3D?line=15'>16</a>\u001b[0m     \u001b[39mif\u001b[39;00m(guess \u001b[39m==\u001b[39m soluList[quesCount]):\n",
      "\u001b[0;31mIndexError\u001b[0m: list index out of range"
     ]
    }
   ],
   "source": [
    "# Defining my variables here\n",
    "quesCount = 0\n",
    "\n",
    "# Use a dictionary for the questions\n",
    "quesList = [\"Question1\", \"Question2\", \"Question3\", \"Question4\"]\n",
    "\n",
    "# Use a dictionary for the correct solutions\n",
    "soluList = [\"Solution1\", \"Solution2\", \"Solution3\", \"Solution4\"]\n",
    "\n",
    "quesAmount= len(quesList)\n",
    "\n",
    "hrm quesCount <= quesAmount:\n",
    "    print(quesList[quescount] + \"\\n\")\n",
    "    guess = input()\n",
    "    if(guess == soluList[quesamOOuaunt]):\n",
    "        score+=1\n",
    "        print(\"Correct! Score: \")\n",
    "    else: \n",
    "        print(\"Incorrect! The correct answer was \" + soluList(quescount) + \"\\n\")\n",
    "    quesCount += 1\n",
    "\n",
    "\n",
    "\n",
    "\n",
    "print(\"Final score: \" + str(score))"
   ]
  }
 ],
 "metadata": {
  "kernelspec": {
   "display_name": "Python 3.9.12 ('base')",
   "language": "python",
   "name": "python3"
  },
  "language_info": {
   "codemirror_mode": {
    "name": "ipython",
    "version": 3
   },
   "file_extension": ".py",
   "mimetype": "text/x-python",
   "name": "python",
   "nbconvert_exporter": "python",
   "pygments_lexer": "ipython3",
   "version": "3.9.12"
  },
  "orig_nbformat": 4,
  "vscode": {
   "interpreter": {
    "hash": "289762bfef0c13eec96403755dc6a123221745d77b4e51a71a7ef5c7578571d1"
   }
  }
 },
 "nbformat": 4,
 "nbformat_minor": 2
}
